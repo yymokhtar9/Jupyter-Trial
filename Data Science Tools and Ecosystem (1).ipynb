{
 "cells": [
  {
   "cell_type": "markdown",
   "id": "0a49ff64-5b0b-4d9b-b771-9c6ab4854ffb",
   "metadata": {},
   "source": [
    "# Data Science Tools and Ecosystem"
   ]
  },
  {
   "cell_type": "markdown",
   "id": "6c9b3bbd-685f-41f8-a094-14fef226db52",
   "metadata": {},
   "source": [
    "In this notebook, Data Science Tools and Ecosystem are summarized."
   ]
  },
  {
   "cell_type": "markdown",
   "id": "35c6158e-fb03-4784-a176-bcce309f0d5d",
   "metadata": {},
   "source": [
    "**Objectives:**  \n",
    "- Have a brief about Data Science\n",
    "- Discover IDE\n",
    "- Discover pillars of Data Science\n",
    "- Learn what it takes to be a great Data Scientist"
   ]
  },
  {
   "cell_type": "markdown",
   "id": "e9774e88-8e36-4f72-b5f2-90f547cf9af7",
   "metadata": {},
   "source": [
    "Some of the popular languages that Data Scientists use are:  \r",
    "1. Python  \n",
    "2. C++  \n",
    "3. C Sharp  \n"
   ]
  },
  {
   "cell_type": "markdown",
   "id": "2eef42ee-0352-4ab5-a342-ec65a5f5041e",
   "metadata": {},
   "source": [
    "---"
   ]
  },
  {
   "cell_type": "markdown",
   "id": "9414cfbd-9107-45bb-ac79-bc62066fa58e",
   "metadata": {},
   "source": [
    "Some of the commonly used libraries used by Data Scientists include:  \n",
    "1. NumPy  \n",
    "2. PanDas  \n",
    "3. ggplot  \r\n"
   ]
  },
  {
   "cell_type": "markdown",
   "id": "e2e121c7-13a2-4120-b73e-e5d26f01ff2e",
   "metadata": {},
   "source": [
    "| Data Science Tools |\n",
    "|----------|\n",
    "| Visual Studio| \n",
    "| Google Collab|\n",
    "| IBM Watson Studio| "
   ]
  },
  {
   "cell_type": "markdown",
   "id": "0ab51cb9-5896-4c04-bad9-eb0f6e43a953",
   "metadata": {},
   "source": [
    "### Below are a few examples of evaluating arithmetic expressions in Python"
   ]
  },
  {
   "cell_type": "code",
   "execution_count": 5,
   "id": "3d91f8e8-e6c1-4897-80bb-3398d3056aef",
   "metadata": {},
   "outputs": [
    {
     "name": "stdout",
     "output_type": "stream",
     "text": [
      "17\n"
     ]
    }
   ],
   "source": [
    "#This a simple arithmetic expression to mutiply then add integers\n",
    "x=(3*4)+5\n",
    "print(x)"
   ]
  },
  {
   "cell_type": "code",
   "execution_count": 6,
   "id": "abb5c421-296e-426d-9848-e27406b7d3e4",
   "metadata": {},
   "outputs": [
    {
     "name": "stdout",
     "output_type": "stream",
     "text": [
      "3.3333333333333335\n"
     ]
    }
   ],
   "source": [
    "min=200\n",
    "hours=min/60\n",
    "print(hours)"
   ]
  },
  {
   "cell_type": "markdown",
   "id": "c75c32c3-92bf-4f75-8315-bb8e6eacd642",
   "metadata": {},
   "source": [
    "## Author  \n",
    "Yahya Mokhtar"
   ]
  },
  {
   "cell_type": "code",
   "execution_count": null,
   "id": "4bd8050c-94e7-4cb5-b2d6-393ad54a47e4",
   "metadata": {},
   "outputs": [],
   "source": []
  }
 ],
 "metadata": {
  "kernelspec": {
   "display_name": "Python 3 (ipykernel)",
   "language": "python",
   "name": "python3"
  },
  "language_info": {
   "codemirror_mode": {
    "name": "ipython",
    "version": 3
   },
   "file_extension": ".py",
   "mimetype": "text/x-python",
   "name": "python",
   "nbconvert_exporter": "python",
   "pygments_lexer": "ipython3",
   "version": "3.12.4"
  }
 },
 "nbformat": 4,
 "nbformat_minor": 5
}
